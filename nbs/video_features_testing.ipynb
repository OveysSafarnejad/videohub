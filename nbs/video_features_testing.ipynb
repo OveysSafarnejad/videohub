{
 "cells": [
  {
   "cell_type": "code",
   "execution_count": 1,
   "metadata": {},
   "outputs": [
    {
     "name": "stdout",
     "output_type": "stream",
     "text": [
      "/Users/audioworkstation/Documents/WORKSPACE/LEARNING/video-membership\n"
     ]
    }
   ],
   "source": [
    "%cd ~/Documents/WORKSPACE/LEARNING/video-membership"
   ]
  },
  {
   "cell_type": "code",
   "execution_count": 2,
   "metadata": {},
   "outputs": [],
   "source": [
    "from cassandra.cqlengine.management import sync_table\n",
    "\n",
    "\n",
    "from app.video.models import Video\n",
    "from app.db import get_session\n",
    "from app.users.models import User\n",
    "\n",
    "get_session()\n",
    "sync_table(Video)\n",
    "sync_table(User)\n",
    "\n",
    "\n",
    "\n",
    "\n",
    "# url = \"https://www.youtube.com/watch?v=_Ll6C5epgdQ\"\n",
    "# v = Video.add_video(url=url,\n",
    "#                     user_id='4cb96532-cb66-11ed-a6e0-784f4383082e')\n",
    "# v\n"
   ]
  },
  {
   "cell_type": "code",
   "execution_count": 3,
   "metadata": {},
   "outputs": [
    {
     "data": {
      "text/plain": [
       "(Video(video_id=_Ll6C5epgdQ), False)"
      ]
     },
     "execution_count": 3,
     "metadata": {},
     "output_type": "execute_result"
    }
   ],
   "source": [
    "url = \"https://www.youtube.com/watch?v=_Ll6C5epgdQ\"\n",
    "obj, created = Video.get_or_create(\n",
    "    url=url, user_id='4cb96532-cb66-11ed-a6e0-784f4383082e')\n",
    "\n",
    "obj, created"
   ]
  }
 ],
 "metadata": {
  "kernelspec": {
   "display_name": "venv",
   "language": "python",
   "name": "python3"
  },
  "language_info": {
   "codemirror_mode": {
    "name": "ipython",
    "version": 3
   },
   "file_extension": ".py",
   "mimetype": "text/x-python",
   "name": "python",
   "nbconvert_exporter": "python",
   "pygments_lexer": "ipython3",
   "version": "3.8.10"
  },
  "orig_nbformat": 4
 },
 "nbformat": 4,
 "nbformat_minor": 2
}
