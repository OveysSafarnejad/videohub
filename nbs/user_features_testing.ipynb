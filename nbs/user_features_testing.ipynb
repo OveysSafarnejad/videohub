{
 "cells": [
  {
   "cell_type": "code",
   "execution_count": 1,
   "id": "ace909ff",
   "metadata": {},
   "outputs": [
    {
     "name": "stdout",
     "output_type": "stream",
     "text": [
      "/Users/audioworkstation/Documents/WORKSPACE/LEARNING/video-membership\n"
     ]
    }
   ],
   "source": [
    "%cd ~/Documents/WORKSPACE/LEARNING/video-membership"
   ]
  },
  {
   "attachments": {},
   "cell_type": "markdown",
   "id": "4fd9d80a",
   "metadata": {},
   "source": [
    "this is for testing"
   ]
  },
  {
   "cell_type": "code",
   "execution_count": 3,
   "id": "1d4eb867",
   "metadata": {},
   "outputs": [
    {
     "data": {
      "text/plain": [
       "True"
      ]
     },
     "execution_count": 3,
     "metadata": {},
     "output_type": "execute_result"
    }
   ],
   "source": [
    "from cassandra.cqlengine.management import sync_table\n",
    "from app import db\n",
    "from app.config import get_settings\n",
    "from app.users.models import User\n",
    "\n",
    "db.get_session()\n",
    "sync_table(User)\n",
    "\n",
    "\n",
    "user_5 = User.create_user('6@outlook.com', password='abc')\n",
    "user_5.password\n",
    "user_5.verify_password('abc')"
   ]
  },
  {
   "cell_type": "code",
   "execution_count": 4,
   "id": "35b85647",
   "metadata": {},
   "outputs": [
    {
     "data": {
      "text/plain": [
       "True"
      ]
     },
     "execution_count": 4,
     "metadata": {},
     "output_type": "execute_result"
    }
   ],
   "source": [
    "user_5.verify_password('abc')"
   ]
  },
  {
   "cell_type": "code",
   "execution_count": 1,
   "id": "fec42cdf",
   "metadata": {},
   "outputs": [
    {
     "data": {
      "text/plain": [
       "'aYkAYo-ogqmfJRIgg8Wg8wmcXaLq2l9cpjJ5nY38zDTqsi7gykcgO9Vuo7bI-mU-YiQ'"
      ]
     },
     "execution_count": 1,
     "metadata": {},
     "output_type": "execute_result"
    }
   ],
   "source": [
    "import secrets\n",
    "secret = secrets.token_urlsafe(50)\n",
    "secret"
   ]
  }
 ],
 "metadata": {
  "kernelspec": {
   "display_name": "Python 3 (ipykernel)",
   "language": "python",
   "name": "python3"
  },
  "language_info": {
   "codemirror_mode": {
    "name": "ipython",
    "version": 3
   },
   "file_extension": ".py",
   "mimetype": "text/x-python",
   "name": "python",
   "nbconvert_exporter": "python",
   "pygments_lexer": "ipython3",
   "version": "3.8.10"
  }
 },
 "nbformat": 4,
 "nbformat_minor": 5
}
