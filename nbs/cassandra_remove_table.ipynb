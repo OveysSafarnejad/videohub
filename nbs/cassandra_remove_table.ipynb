{
 "cells": [
  {
   "cell_type": "code",
   "execution_count": 18,
   "metadata": {},
   "outputs": [
    {
     "name": "stdout",
     "output_type": "stream",
     "text": [
      "/Users/audioworkstation/Documents/WORKSPACE/LEARNING/video-membership\n"
     ]
    }
   ],
   "source": [
    "%cd ~/Documents/WORKSPACE/LEARNING/video-membership\n",
    "\n",
    "from app import db, config\n",
    "\n",
    "session = db.get_session()\n",
    "settings = config.get_settings()\n",
    "\n",
    "key_space = settings.keyspace\n",
    "model_name = f'event'"
   ]
  },
  {
   "cell_type": "code",
   "execution_count": 19,
   "metadata": {},
   "outputs": [
    {
     "data": {
      "text/plain": [
       "'DROP TABLE If EXISTS video_membership.event'"
      ]
     },
     "execution_count": 19,
     "metadata": {},
     "output_type": "execute_result"
    }
   ],
   "source": [
    "cmd = f'DROP TABLE If EXISTS {key_space}.{model_name}'\n",
    "cmd"
   ]
  },
  {
   "cell_type": "code",
   "execution_count": 20,
   "metadata": {},
   "outputs": [],
   "source": [
    "result = session.execute(cmd)\n",
    "result\n",
    "\n",
    "for item in result.all():\n",
    "    print(item)"
   ]
  }
 ],
 "metadata": {
  "kernelspec": {
   "display_name": "venv",
   "language": "python",
   "name": "python3"
  },
  "language_info": {
   "codemirror_mode": {
    "name": "ipython",
    "version": 3
   },
   "file_extension": ".py",
   "mimetype": "text/x-python",
   "name": "python",
   "nbconvert_exporter": "python",
   "pygments_lexer": "ipython3",
   "version": "3.8.10"
  },
  "orig_nbformat": 4
 },
 "nbformat": 4,
 "nbformat_minor": 2
}
