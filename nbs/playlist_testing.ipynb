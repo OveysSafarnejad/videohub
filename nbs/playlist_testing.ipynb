{
 "cells": [
  {
   "cell_type": "code",
   "execution_count": 2,
   "metadata": {},
   "outputs": [
    {
     "name": "stdout",
     "output_type": "stream",
     "text": [
      "/Users/audioworkstation/Documents/WORKSPACE/LEARNING/video-membership\n"
     ]
    }
   ],
   "source": [
    "%cd ~/Documents/WORKSPACE/LEARNING/video-membership"
   ]
  },
  {
   "cell_type": "code",
   "execution_count": 3,
   "metadata": {},
   "outputs": [],
   "source": [
    "from app import db, config\n",
    "\n",
    "\n",
    "session = db.get_session()\n",
    "settings = config.get_settings()\n",
    "\n",
    "key_space = settings.keyspace\n"
   ]
  },
  {
   "cell_type": "code",
   "execution_count": 4,
   "metadata": {},
   "outputs": [
    {
     "data": {
      "text/plain": [
       "Playlist(db_id=UUID('f58557bc-ce12-11ed-ac0f-acde48001122'), video_ids=[], user_id=None, title='Mine like always', updated=datetime.datetime(2023, 3, 29, 9, 19, 41, 442530))"
      ]
     },
     "execution_count": 4,
     "metadata": {},
     "output_type": "execute_result"
    }
   ],
   "source": [
    "from app.playlist.models import Playlist\n",
    "\n",
    "pl = Playlist(title=\"Mine like always\")\n",
    "pl.save()\n"
   ]
  },
  {
   "cell_type": "code",
   "execution_count": 5,
   "metadata": {},
   "outputs": [],
   "source": [
    "for item in pl.get_videos():\n",
    "    print(item)"
   ]
  },
  {
   "cell_type": "code",
   "execution_count": 9,
   "metadata": {},
   "outputs": [
    {
     "data": {
      "text/plain": [
       "['JgHig8TVx1A', 'zlwcvInqXVw', 'eJO5HU_7_1w']"
      ]
     },
     "execution_count": 9,
     "metadata": {},
     "output_type": "execute_result"
    }
   ],
   "source": [
    "from app.video.models import Video\n",
    "\n",
    "videos = list(Video.objects.all().limit(3).values_list(\"video_id\", flat=True))\n",
    "videos\n"
   ]
  },
  {
   "cell_type": "code",
   "execution_count": 10,
   "metadata": {},
   "outputs": [],
   "source": [
    "pl.add_videos(videos)\n"
   ]
  },
  {
   "cell_type": "code",
   "execution_count": 11,
   "metadata": {},
   "outputs": [
    {
     "name": "stdout",
     "output_type": "stream",
     "text": [
      "e1d222b4-ccd1-11ed-a802-784f4383082e\n",
      "17f4dc64-cd32-11ed-8dd0-784f4383082e\n",
      "ca215150-cd3d-11ed-9b93-784f4383082e\n"
     ]
    }
   ],
   "source": [
    "pl_videos = pl.get_videos()\n",
    "for item in pl_videos:\n",
    "    print(item.db_id)"
   ]
  }
 ],
 "metadata": {
  "kernelspec": {
   "display_name": "venv",
   "language": "python",
   "name": "python3"
  },
  "language_info": {
   "codemirror_mode": {
    "name": "ipython",
    "version": 3
   },
   "file_extension": ".py",
   "mimetype": "text/x-python",
   "name": "python",
   "nbconvert_exporter": "python",
   "pygments_lexer": "ipython3",
   "version": "3.8.10"
  },
  "orig_nbformat": 4
 },
 "nbformat": 4,
 "nbformat_minor": 2
}
